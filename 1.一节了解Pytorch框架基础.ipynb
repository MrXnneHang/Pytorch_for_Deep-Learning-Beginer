{
 "cells": [
  {
   "cell_type": "markdown",
   "id": "ab07bd84-0835-4d66-ae72-7915ad68d608",
   "metadata": {},
   "source": [
    "# 这节课是开给完全没有接触过Pytorch的道友的"
   ]
  },
  {
   "cell_type": "markdown",
   "id": "10558ebc-806d-45ce-a41f-126e10374c78",
   "metadata": {},
   "source": [
    "## 1.关于张量：\n",
    "1.什么是张量(Tensor) <br>\n",
    "张量是一种带有**梯度的多维数组(矩阵）** <br>\n",
    "2.什么是梯度. <br>\n",
    "可以简单理解为计算过程中**自动求导得到的导数值**"
   ]
  },
  {
   "cell_type": "code",
   "execution_count": 3,
   "id": "8ef71058-e1f9-48a6-8b7b-bf55a3ff6b35",
   "metadata": {},
   "outputs": [],
   "source": [
    "import torch"
   ]
  },
  {
   "cell_type": "markdown",
   "id": "c4762e12-821f-4257-9b1f-10909524928c",
   "metadata": {},
   "source": [
    "## 2.创建张量:让我们写代码"
   ]
  },
  {
   "cell_type": "code",
   "execution_count": 4,
   "id": "a70b0fae-7d40-45e4-88dd-80e63065b286",
   "metadata": {},
   "outputs": [],
   "source": [
    "## 介绍两种 ,随机初始化和已知初始化.\n",
    "\n",
    "## 1.torch.randn\n",
    "a = torch.randn(1,2,3) #随机生成-1~1之间值填充.\n",
    "\n",
    "## 2.torch.tensor\n",
    "b = torch.tensor([1,2,3]) # 从数组中创建，创建值和数组一致"
   ]
  },
  {
   "cell_type": "code",
   "execution_count": 5,
   "id": "6be53950-94ca-430c-9302-574532e3c7c0",
   "metadata": {},
   "outputs": [
    {
     "data": {
      "text/plain": [
       "tensor([[[ 0.0681, -0.6180, -0.2938],\n",
       "         [ 0.4433, -0.5304, -1.3049]]])"
      ]
     },
     "execution_count": 5,
     "metadata": {},
     "output_type": "execute_result"
    }
   ],
   "source": [
    "a"
   ]
  },
  {
   "cell_type": "code",
   "execution_count": 6,
   "id": "b07eccbc-96ca-4520-8735-2bfb93883d7b",
   "metadata": {},
   "outputs": [
    {
     "data": {
      "text/plain": [
       "tensor([1, 2, 3])"
      ]
     },
     "execution_count": 6,
     "metadata": {},
     "output_type": "execute_result"
    }
   ],
   "source": [
    "b"
   ]
  },
  {
   "cell_type": "code",
   "execution_count": 7,
   "id": "9ce6ca13-7d24-4698-879d-ed05fe394303",
   "metadata": {},
   "outputs": [],
   "source": [
    "##当然也有一些\n",
    "## torch.ones,torch.one_like,torch.zeros....都是创建张量，遇到的时候再说"
   ]
  },
  {
   "cell_type": "markdown",
   "id": "3acd36fa-5e13-4845-8eaf-2643dedeef09",
   "metadata": {},
   "source": [
    "## 3.张量的形状(\"Shape\")"
   ]
  },
  {
   "cell_type": "code",
   "execution_count": 8,
   "id": "8ac22e18-bbff-4cd3-a16b-32ddf3cd88b5",
   "metadata": {},
   "outputs": [
    {
     "data": {
      "text/plain": [
       "tensor([[[ 0.0681, -0.6180, -0.2938],\n",
       "         [ 0.4433, -0.5304, -1.3049]]])"
      ]
     },
     "execution_count": 8,
     "metadata": {},
     "output_type": "execute_result"
    }
   ],
   "source": [
    "a #三维"
   ]
  },
  {
   "cell_type": "code",
   "execution_count": 9,
   "id": "f5dee50c-0122-4e5a-aba2-25c72dcef242",
   "metadata": {},
   "outputs": [
    {
     "data": {
      "text/plain": [
       "tensor([1, 2, 3])"
      ]
     },
     "execution_count": 9,
     "metadata": {},
     "output_type": "execute_result"
    }
   ],
   "source": [
    "b #一维"
   ]
  },
  {
   "cell_type": "code",
   "execution_count": 10,
   "id": "f35364d9-9fff-4e8c-9e2b-4a1a17870667",
   "metadata": {},
   "outputs": [],
   "source": [
    "# 不可能用眼睛看"
   ]
  },
  {
   "cell_type": "code",
   "execution_count": 11,
   "id": "3a2abfc4-2963-401b-b96f-5c69f6e6db33",
   "metadata": {},
   "outputs": [
    {
     "data": {
      "text/plain": [
       "torch.Size([1, 2, 3])"
      ]
     },
     "execution_count": 11,
     "metadata": {},
     "output_type": "execute_result"
    }
   ],
   "source": [
    "a.shape # 第一个维度的宽度为1,后依次2,3"
   ]
  },
  {
   "cell_type": "code",
   "execution_count": 12,
   "id": "b9923889-8558-4ccf-bd8b-6724b7782dfa",
   "metadata": {},
   "outputs": [
    {
     "data": {
      "text/plain": [
       "torch.Size([3])"
      ]
     },
     "execution_count": 12,
     "metadata": {},
     "output_type": "execute_result"
    }
   ],
   "source": [
    "b.shape # 长度为3的一维数组"
   ]
  },
  {
   "cell_type": "markdown",
   "id": "3af80de8-0bb2-4cf8-99c6-6f8739ec9735",
   "metadata": {},
   "source": [
    "### 3.1改变形状"
   ]
  },
  {
   "cell_type": "code",
   "execution_count": 13,
   "id": "4966ffeb-a478-4960-9e34-985b8d95d4cc",
   "metadata": {},
   "outputs": [],
   "source": [
    "A = a.reshape(3,2,1)"
   ]
  },
  {
   "cell_type": "code",
   "execution_count": 14,
   "id": "39ba33a9-96cb-4b3a-9b4a-16c2bf779ae8",
   "metadata": {},
   "outputs": [
    {
     "data": {
      "text/plain": [
       "(tensor([[[ 0.0681],\n",
       "          [-0.6180]],\n",
       " \n",
       "         [[-0.2938],\n",
       "          [ 0.4433]],\n",
       " \n",
       "         [[-0.5304],\n",
       "          [-1.3049]]]),\n",
       " tensor([[[ 0.0681, -0.6180, -0.2938],\n",
       "          [ 0.4433, -0.5304, -1.3049]]]))"
      ]
     },
     "execution_count": 14,
     "metadata": {},
     "output_type": "execute_result"
    }
   ],
   "source": [
    "A,a # 不用记这些值，只要形状对了，就行了hh"
   ]
  },
  {
   "cell_type": "code",
   "execution_count": 15,
   "id": "f428c947-919f-4069-b08d-0a0377c0dbf7",
   "metadata": {},
   "outputs": [
    {
     "data": {
      "text/plain": [
       "(torch.Size([3, 2, 1]), torch.Size([1, 2, 3]))"
      ]
     },
     "execution_count": 15,
     "metadata": {},
     "output_type": "execute_result"
    }
   ],
   "source": [
    "A.shape,a.shape"
   ]
  },
  {
   "cell_type": "markdown",
   "id": "ca67c0aa-ba74-4e03-9149-cc929158ddcf",
   "metadata": {},
   "source": [
    "## 4.张量的梯度"
   ]
  },
  {
   "cell_type": "markdown",
   "id": "342e8985-6f58-4881-9129-835b0af00b18",
   "metadata": {},
   "source": [
    "梯度(gradient) <br>\n",
    "在pytorch中叫 requires_grad的一个值可以控制是否保存梯度值 <br>\n",
    "因为为了节约计算资源，默认创建的张量的时候都是False(不保存) <br>\n",
    "我们训练的时候会需要这个梯度值。"
   ]
  },
  {
   "cell_type": "code",
   "execution_count": 16,
   "id": "86828813-61f9-42e8-b848-7c25885a27a0",
   "metadata": {},
   "outputs": [
    {
     "data": {
      "text/plain": [
       "torch.Size([1, 2, 3])"
      ]
     },
     "execution_count": 16,
     "metadata": {},
     "output_type": "execute_result"
    }
   ],
   "source": [
    "a.shape"
   ]
  },
  {
   "cell_type": "code",
   "execution_count": 17,
   "id": "dc2144fc-cde5-46a8-b4ea-92be76ad82aa",
   "metadata": {},
   "outputs": [
    {
     "data": {
      "text/plain": [
       "False"
      ]
     },
     "execution_count": 17,
     "metadata": {},
     "output_type": "execute_result"
    }
   ],
   "source": [
    "a.requires_grad"
   ]
  },
  {
   "cell_type": "markdown",
   "id": "9839dafa-2288-413e-b094-ef2be9ba910b",
   "metadata": {},
   "source": [
    "设置梯度值为True"
   ]
  },
  {
   "cell_type": "code",
   "execution_count": 18,
   "id": "ffbc42e6-b4c9-4468-bce8-123504b8da51",
   "metadata": {},
   "outputs": [],
   "source": [
    "## 创建后更改\n",
    "a.requires_grad=True"
   ]
  },
  {
   "cell_type": "code",
   "execution_count": 19,
   "id": "a80567e3-29d2-496e-842b-1535ff8e51ac",
   "metadata": {},
   "outputs": [
    {
     "data": {
      "text/plain": [
       "True"
      ]
     },
     "execution_count": 19,
     "metadata": {},
     "output_type": "execute_result"
    }
   ],
   "source": [
    "a.requires_grad"
   ]
  },
  {
   "cell_type": "code",
   "execution_count": 20,
   "id": "437482e1-d304-4a90-9210-236bb7715b96",
   "metadata": {},
   "outputs": [
    {
     "data": {
      "text/plain": [
       "tensor([[[ 0.0681, -0.6180, -0.2938],\n",
       "         [ 0.4433, -0.5304, -1.3049]]], requires_grad=True)"
      ]
     },
     "execution_count": 20,
     "metadata": {},
     "output_type": "execute_result"
    }
   ],
   "source": [
    "a"
   ]
  },
  {
   "cell_type": "code",
   "execution_count": 21,
   "id": "09ff9894-3bfe-4dbc-91df-9ae2fd30b320",
   "metadata": {},
   "outputs": [],
   "source": [
    "## 创建的时候修改\n",
    "b = torch.randn(1,2,3,requires_grad=True)"
   ]
  },
  {
   "cell_type": "code",
   "execution_count": 22,
   "id": "149c6690-17d2-4b58-9ed9-41077d83de55",
   "metadata": {},
   "outputs": [
    {
     "data": {
      "text/plain": [
       "tensor([[[-1.1968,  1.0503,  0.1116],\n",
       "         [ 1.0036, -0.5526, -0.8876]]], requires_grad=True)"
      ]
     },
     "execution_count": 22,
     "metadata": {},
     "output_type": "execute_result"
    }
   ],
   "source": [
    "b"
   ]
  },
  {
   "cell_type": "markdown",
   "id": "eab3e2b3-a9d3-4b42-bd84-b6df59d43c45",
   "metadata": {},
   "source": [
    "## 5.补充：随机数种子"
   ]
  },
  {
   "cell_type": "code",
   "execution_count": 23,
   "id": "ac687353-581c-42da-86be-ef5d746d5d4f",
   "metadata": {},
   "outputs": [
    {
     "data": {
      "text/plain": [
       "tensor([[[-0.0853,  1.5822,  0.3895],\n",
       "         [-1.2896,  0.2566,  1.1798]]])"
      ]
     },
     "execution_count": 23,
     "metadata": {},
     "output_type": "execute_result"
    }
   ],
   "source": [
    "c = torch.randn(1,2,3)\n",
    "c"
   ]
  },
  {
   "cell_type": "markdown",
   "id": "51218562-ca10-4688-92ff-4e531a3b27b9",
   "metadata": {},
   "source": [
    "每次生成的值都不同"
   ]
  },
  {
   "cell_type": "code",
   "execution_count": 24,
   "id": "fd934023-d426-47fd-b6ee-a40f9e4bf234",
   "metadata": {},
   "outputs": [
    {
     "data": {
      "text/plain": [
       "tensor([[[ 0.3367,  0.1288,  0.2345],\n",
       "         [ 0.2303, -1.1229, -0.1863]]])"
      ]
     },
     "execution_count": 24,
     "metadata": {},
     "output_type": "execute_result"
    }
   ],
   "source": [
    "torch.manual_seed(42) # 设置随机数种子=42,可以随便设置一个值\n",
    "c = torch.randn(1,2,3)\n",
    "c"
   ]
  },
  {
   "cell_type": "markdown",
   "id": "dd780ed0-5197-40fd-ba12-eb16d980a7b6",
   "metadata": {},
   "source": [
    "## 6.补充：关于矩阵的乘法"
   ]
  },
  {
   "cell_type": "markdown",
   "id": "87a4f6f7-ab9d-4593-acba-7930d8ede064",
   "metadata": {},
   "source": [
    "### 点乘 a*b"
   ]
  },
  {
   "cell_type": "code",
   "execution_count": 35,
   "id": "f9790963-15c9-485a-bef1-a2cb39a2a227",
   "metadata": {},
   "outputs": [
    {
     "data": {
      "text/plain": [
       "tensor([[[ 0.0681, -0.6180, -0.2938],\n",
       "         [ 0.4433, -0.5304, -1.3049]]], requires_grad=True)"
      ]
     },
     "execution_count": 35,
     "metadata": {},
     "output_type": "execute_result"
    }
   ],
   "source": [
    "a"
   ]
  },
  {
   "cell_type": "code",
   "execution_count": 36,
   "id": "3d744b19-7fa3-41da-a94e-b3a4ffcf83a7",
   "metadata": {},
   "outputs": [
    {
     "data": {
      "text/plain": [
       "tensor([[[-1.1968,  1.0503,  0.1116],\n",
       "         [ 1.0036, -0.5526, -0.8876]]], requires_grad=True)"
      ]
     },
     "execution_count": 36,
     "metadata": {},
     "output_type": "execute_result"
    }
   ],
   "source": [
    "b"
   ]
  },
  {
   "cell_type": "code",
   "execution_count": 39,
   "id": "cfb47b3b-ec9d-4ae4-be63-9f2beb20b46f",
   "metadata": {},
   "outputs": [
    {
     "data": {
      "text/plain": [
       "tensor([[[-0.0815, -0.6491, -0.0328],\n",
       "         [ 0.4449,  0.2931,  1.1582]]], grad_fn=<MulBackward0>)"
      ]
     },
     "execution_count": 39,
     "metadata": {},
     "output_type": "execute_result"
    }
   ],
   "source": [
    "a*b ## 点乘做的事情就是把行列数相同的相乘，但不必自己算，Pytorch帮你算.\n",
    "a*b[::1]"
   ]
  },
  {
   "cell_type": "code",
   "execution_count": 48,
   "id": "b08b4374-2670-428d-9431-97fb90332cec",
   "metadata": {},
   "outputs": [
    {
     "data": {
      "text/plain": [
       "(torch.Size([1, 2, 3]), torch.Size([1, 2, 3]))"
      ]
     },
     "execution_count": 48,
     "metadata": {},
     "output_type": "execute_result"
    }
   ],
   "source": [
    "a.shape,b.shape"
   ]
  },
  {
   "cell_type": "code",
   "execution_count": 56,
   "id": "b796ab61-a91c-40a7-ab45-35971f2a62ca",
   "metadata": {},
   "outputs": [],
   "source": [
    "# a = a.squeeze(0)\n",
    "# b = b.squeeze(0)"
   ]
  },
  {
   "cell_type": "code",
   "execution_count": 57,
   "id": "dcd1c368-2330-4404-bcf5-5192c411834d",
   "metadata": {},
   "outputs": [
    {
     "data": {
      "text/plain": [
       "(torch.Size([2, 3]), torch.Size([2, 3]))"
      ]
     },
     "execution_count": 57,
     "metadata": {},
     "output_type": "execute_result"
    }
   ],
   "source": [
    "a.shape,b.shape"
   ]
  },
  {
   "cell_type": "code",
   "execution_count": 67,
   "id": "b4929de9-a063-4200-bfcd-0638febea588",
   "metadata": {},
   "outputs": [
    {
     "name": "stdout",
     "output_type": "stream",
     "text": [
      "tensor([[ 0.0681, -0.6180, -0.2938],\n",
      "        [ 0.4433, -0.5304, -1.3049]], grad_fn=<SqueezeBackward1>)*\n",
      "tensor([[-1.1968,  1.0503,  0.1116],\n",
      "        [ 1.0036, -0.5526, -0.8876]], grad_fn=<SqueezeBackward1>)=\n",
      "tensor([[-0.0815, -0.6491, -0.0328],\n",
      "        [ 0.4449,  0.2931,  1.1582]], grad_fn=<MulBackward0>),\n",
      "(torch.Size([2, 3]), torch.Size([2, 3]))\n"
     ]
    }
   ],
   "source": [
    "print(f\"{a}*\\n{b}=\\n{a*b},\\n{a.shape,b.shape}\")"
   ]
  },
  {
   "cell_type": "code",
   "execution_count": 68,
   "id": "b72247cf-dcd2-4df5-8b42-024cb4b3bc50",
   "metadata": {},
   "outputs": [
    {
     "name": "stdout",
     "output_type": "stream",
     "text": [
      "tensor([[ 0.0681, -0.6180, -0.2938],\n",
      "        [ 0.4433, -0.5304, -1.3049]], grad_fn=<SqueezeBackward1>)*\n",
      "tensor([-1.1968,  1.0503,  0.1116], grad_fn=<SliceBackward0>)=\n",
      "tensor([[-0.0815, -0.6491, -0.0328],\n",
      "        [ 0.4449,  0.2931,  1.1582]], grad_fn=<MulBackward0>),\n",
      "(torch.Size([2, 3]), torch.Size([3]))\n"
     ]
    }
   ],
   "source": [
    "print(f\"{a}*\\n{b[0,:]}=\\n{a*b[0:,]},\\n{a.shape,b[0,:].shape}\")"
   ]
  },
  {
   "cell_type": "markdown",
   "id": "03ab31e4-92c1-41c7-a454-c39e9d66d47f",
   "metadata": {},
   "source": [
    "总结: a*b可以成立的情况:<br>\n",
    "1.(1,2,3)*(1,2,3) 也就是一一对应的情况.<br>\n",
    "   (2,3)*(2,3) <br>\n",
    "2.(2,3)*(3)行对列，对应相等,广播点乘，不用记它，几乎不会遇见."
   ]
  },
  {
   "cell_type": "markdown",
   "id": "6920742a-2b67-4bc5-b0ab-f2675465746a",
   "metadata": {},
   "source": [
    "### 叉乘 AXB"
   ]
  },
  {
   "cell_type": "code",
   "execution_count": 69,
   "id": "7eff932e-98d9-4fa9-afdc-15db49cc18a1",
   "metadata": {},
   "outputs": [],
   "source": [
    "A = torch.randn(2,3)\n",
    "B = torch.randn(3,2)\n",
    "(A@B).shape  "
   ]
  },
  {
   "cell_type": "markdown",
   "id": "58e7f175-7f82-4b50-be2a-844dc71dc842",
   "metadata": {},
   "source": [
    "(2,3)X(3,2) = (2,2)"
   ]
  },
  {
   "cell_type": "code",
   "execution_count": 73,
   "id": "1253872a-3344-4484-901b-19b86b7795c6",
   "metadata": {},
   "outputs": [
    {
     "data": {
      "text/plain": [
       "torch.Size([2, 3])"
      ]
     },
     "execution_count": 73,
     "metadata": {},
     "output_type": "execute_result"
    }
   ],
   "source": [
    "A = torch.randn(2,2)\n",
    "B = torch.randn(2,3)\n",
    "(A@B).shape  "
   ]
  },
  {
   "cell_type": "markdown",
   "id": "11bff0c3-fea6-4b59-8fca-2cbe6a1102a8",
   "metadata": {},
   "source": [
    "(2,2) X (2,3) =(2,3)"
   ]
  },
  {
   "cell_type": "markdown",
   "id": "d7b8d469-8378-4ae3-b09c-9e3dbc1bc15b",
   "metadata": {},
   "source": [
    "一样不用记计算规则.因为不用自己算"
   ]
  },
  {
   "cell_type": "markdown",
   "id": "488c0bf0-68b7-47c0-b6e8-566347c4183f",
   "metadata": {},
   "source": [
    "总结: A.shape = (A1,A2) , B.shape = (B1,B2) <br>\n",
    "     AXB = (A1,A2)X(B1,B2)=(A1,B2)  <br>\n",
    "     需要A2=B1"
   ]
  }
 ],
 "metadata": {
  "kernelspec": {
   "display_name": "Python 3 (ipykernel)",
   "language": "python",
   "name": "python3"
  },
  "language_info": {
   "codemirror_mode": {
    "name": "ipython",
    "version": 3
   },
   "file_extension": ".py",
   "mimetype": "text/x-python",
   "name": "python",
   "nbconvert_exporter": "python",
   "pygments_lexer": "ipython3",
   "version": "3.9.18"
  }
 },
 "nbformat": 4,
 "nbformat_minor": 5
}
