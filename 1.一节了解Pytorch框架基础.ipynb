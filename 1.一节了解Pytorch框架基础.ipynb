{
 "cells": [
  {
   "cell_type": "markdown",
   "id": "ab07bd84-0835-4d66-ae72-7915ad68d608",
   "metadata": {},
   "source": [
    "# 这节课是开给完全没有接触过Pytorch的道友的"
   ]
  },
  {
   "cell_type": "markdown",
   "id": "10558ebc-806d-45ce-a41f-126e10374c78",
   "metadata": {},
   "source": [
    "## 1.关于张量：\n",
    "1.什么是张量(Tensor) <br>\n",
    "张量是一种带有**梯度的多维数组(矩阵）** <br>\n",
    "2.什么是梯度. <br>\n",
    "可以简单理解为计算过程中**自动求导得到的导数值**"
   ]
  },
  {
   "cell_type": "markdown",
   "id": "c4762e12-821f-4257-9b1f-10909524928c",
   "metadata": {},
   "source": [
    "## 2.创建张量:让我们写代码"
   ]
  },
  {
   "cell_type": "code",
   "execution_count": 7,
   "id": "a70b0fae-7d40-45e4-88dd-80e63065b286",
   "metadata": {},
   "outputs": [],
   "source": [
    "## 介绍两种 ,随机初始化和已知初始化.\n",
    "\n",
    "## 1.torch.randn\n",
    "a = torch.randn(1,2,3) #随机生成-1~1之间值填充.\n",
    "\n",
    "## 2.torch.tensor\n",
    "b = torch.tensor([1,2,3]) # 从数组中创建，创建值和数组一致"
   ]
  },
  {
   "cell_type": "code",
   "execution_count": 8,
   "id": "6be53950-94ca-430c-9302-574532e3c7c0",
   "metadata": {},
   "outputs": [
    {
     "data": {
      "text/plain": [
       "tensor([[[-0.6913, -0.2016,  0.4704],\n",
       "         [ 0.4540, -1.1640,  0.2241]]])"
      ]
     },
     "execution_count": 8,
     "metadata": {},
     "output_type": "execute_result"
    }
   ],
   "source": [
    "a"
   ]
  },
  {
   "cell_type": "code",
   "execution_count": 9,
   "id": "b07eccbc-96ca-4520-8735-2bfb93883d7b",
   "metadata": {},
   "outputs": [
    {
     "data": {
      "text/plain": [
       "tensor([1, 2, 3])"
      ]
     },
     "execution_count": 9,
     "metadata": {},
     "output_type": "execute_result"
    }
   ],
   "source": [
    "b"
   ]
  },
  {
   "cell_type": "code",
   "execution_count": null,
   "id": "9ce6ca13-7d24-4698-879d-ed05fe394303",
   "metadata": {},
   "outputs": [],
   "source": [
    "##当然也有一些\n",
    "## torch.ones,torch.one_like,torch.zeros....都是创建张量，遇到的时候再说"
   ]
  },
  {
   "cell_type": "markdown",
   "id": "3acd36fa-5e13-4845-8eaf-2643dedeef09",
   "metadata": {},
   "source": [
    "## 3.张量的形状(\"Shape\")"
   ]
  },
  {
   "cell_type": "code",
   "execution_count": 12,
   "id": "8ac22e18-bbff-4cd3-a16b-32ddf3cd88b5",
   "metadata": {},
   "outputs": [
    {
     "data": {
      "text/plain": [
       "tensor([[[-0.6913, -0.2016,  0.4704],\n",
       "         [ 0.4540, -1.1640,  0.2241]]])"
      ]
     },
     "execution_count": 12,
     "metadata": {},
     "output_type": "execute_result"
    }
   ],
   "source": [
    "a #三维"
   ]
  },
  {
   "cell_type": "code",
   "execution_count": 11,
   "id": "f5dee50c-0122-4e5a-aba2-25c72dcef242",
   "metadata": {},
   "outputs": [
    {
     "data": {
      "text/plain": [
       "tensor([1, 2, 3])"
      ]
     },
     "execution_count": 11,
     "metadata": {},
     "output_type": "execute_result"
    }
   ],
   "source": [
    "b #一维"
   ]
  },
  {
   "cell_type": "code",
   "execution_count": 13,
   "id": "f35364d9-9fff-4e8c-9e2b-4a1a17870667",
   "metadata": {},
   "outputs": [],
   "source": [
    "# 不可能用眼睛看"
   ]
  },
  {
   "cell_type": "code",
   "execution_count": 14,
   "id": "3a2abfc4-2963-401b-b96f-5c69f6e6db33",
   "metadata": {},
   "outputs": [
    {
     "data": {
      "text/plain": [
       "torch.Size([1, 2, 3])"
      ]
     },
     "execution_count": 14,
     "metadata": {},
     "output_type": "execute_result"
    }
   ],
   "source": [
    "a.shape # 第一个维度的宽度为1,后依次2,3"
   ]
  },
  {
   "cell_type": "code",
   "execution_count": 15,
   "id": "b9923889-8558-4ccf-bd8b-6724b7782dfa",
   "metadata": {},
   "outputs": [
    {
     "data": {
      "text/plain": [
       "torch.Size([3])"
      ]
     },
     "execution_count": 15,
     "metadata": {},
     "output_type": "execute_result"
    }
   ],
   "source": [
    "b.shape # 长度为3的一维数组"
   ]
  },
  {
   "cell_type": "markdown",
   "id": "3af80de8-0bb2-4cf8-99c6-6f8739ec9735",
   "metadata": {},
   "source": [
    "### 3.1改变形状"
   ]
  },
  {
   "cell_type": "code",
   "execution_count": 16,
   "id": "4966ffeb-a478-4960-9e34-985b8d95d4cc",
   "metadata": {},
   "outputs": [],
   "source": [
    "A = a.reshape(3,2,1)"
   ]
  },
  {
   "cell_type": "code",
   "execution_count": 17,
   "id": "39ba33a9-96cb-4b3a-9b4a-16c2bf779ae8",
   "metadata": {},
   "outputs": [
    {
     "data": {
      "text/plain": [
       "(tensor([[[-0.6913],\n",
       "          [-0.2016]],\n",
       " \n",
       "         [[ 0.4704],\n",
       "          [ 0.4540]],\n",
       " \n",
       "         [[-1.1640],\n",
       "          [ 0.2241]]]),\n",
       " tensor([[[-0.6913, -0.2016,  0.4704],\n",
       "          [ 0.4540, -1.1640,  0.2241]]]))"
      ]
     },
     "execution_count": 17,
     "metadata": {},
     "output_type": "execute_result"
    }
   ],
   "source": [
    "A,a # 不用记这些值，只要形状对了，就行了hh"
   ]
  },
  {
   "cell_type": "code",
   "execution_count": 18,
   "id": "f428c947-919f-4069-b08d-0a0377c0dbf7",
   "metadata": {},
   "outputs": [
    {
     "data": {
      "text/plain": [
       "(torch.Size([3, 2, 1]), torch.Size([1, 2, 3]))"
      ]
     },
     "execution_count": 18,
     "metadata": {},
     "output_type": "execute_result"
    }
   ],
   "source": [
    "A.shape,a.shape"
   ]
  },
  {
   "cell_type": "markdown",
   "id": "ca67c0aa-ba74-4e03-9149-cc929158ddcf",
   "metadata": {},
   "source": [
    "## 4.张量的梯度"
   ]
  },
  {
   "cell_type": "markdown",
   "id": "342e8985-6f58-4881-9129-835b0af00b18",
   "metadata": {},
   "source": [
    "梯度(gradient) <br>\n",
    "在pytorch中叫 requires_grad的一个值可以控制是否保存梯度值 <br>\n",
    "因为为了节约计算资源，默认创建的张量的时候都是False(不保存) <br>\n",
    "我们训练的时候会需要这个梯度值。"
   ]
  },
  {
   "cell_type": "code",
   "execution_count": 20,
   "id": "86828813-61f9-42e8-b848-7c25885a27a0",
   "metadata": {},
   "outputs": [
    {
     "data": {
      "text/plain": [
       "torch.Size([1, 2, 3])"
      ]
     },
     "execution_count": 20,
     "metadata": {},
     "output_type": "execute_result"
    }
   ],
   "source": [
    "a.shape"
   ]
  },
  {
   "cell_type": "code",
   "execution_count": 21,
   "id": "dc2144fc-cde5-46a8-b4ea-92be76ad82aa",
   "metadata": {},
   "outputs": [
    {
     "data": {
      "text/plain": [
       "False"
      ]
     },
     "execution_count": 21,
     "metadata": {},
     "output_type": "execute_result"
    }
   ],
   "source": [
    "a.requires_grad"
   ]
  },
  {
   "cell_type": "markdown",
   "id": "9839dafa-2288-413e-b094-ef2be9ba910b",
   "metadata": {},
   "source": [
    "设置梯度值为True"
   ]
  },
  {
   "cell_type": "code",
   "execution_count": 23,
   "id": "ffbc42e6-b4c9-4468-bce8-123504b8da51",
   "metadata": {},
   "outputs": [],
   "source": [
    "## 创建后更改\n",
    "a.requires_grad=True"
   ]
  },
  {
   "cell_type": "code",
   "execution_count": 24,
   "id": "a80567e3-29d2-496e-842b-1535ff8e51ac",
   "metadata": {},
   "outputs": [
    {
     "data": {
      "text/plain": [
       "True"
      ]
     },
     "execution_count": 24,
     "metadata": {},
     "output_type": "execute_result"
    }
   ],
   "source": [
    "a.requires_grad"
   ]
  },
  {
   "cell_type": "code",
   "execution_count": 25,
   "id": "437482e1-d304-4a90-9210-236bb7715b96",
   "metadata": {},
   "outputs": [
    {
     "data": {
      "text/plain": [
       "tensor([[[-0.6913, -0.2016,  0.4704],\n",
       "         [ 0.4540, -1.1640,  0.2241]]], requires_grad=True)"
      ]
     },
     "execution_count": 25,
     "metadata": {},
     "output_type": "execute_result"
    }
   ],
   "source": [
    "a"
   ]
  },
  {
   "cell_type": "code",
   "execution_count": 30,
   "id": "09ff9894-3bfe-4dbc-91df-9ae2fd30b320",
   "metadata": {},
   "outputs": [],
   "source": [
    "## 创建的时候修改\n",
    "b = torch.randn(1,2,3,requires_grad=True)"
   ]
  },
  {
   "cell_type": "code",
   "execution_count": 31,
   "id": "149c6690-17d2-4b58-9ed9-41077d83de55",
   "metadata": {},
   "outputs": [
    {
     "data": {
      "text/plain": [
       "tensor([[[-0.2215,  0.7913,  0.5879],\n",
       "         [-0.1341,  0.3584, -0.5877]]], requires_grad=True)"
      ]
     },
     "execution_count": 31,
     "metadata": {},
     "output_type": "execute_result"
    }
   ],
   "source": [
    "b"
   ]
  },
  {
   "cell_type": "markdown",
   "id": "eab3e2b3-a9d3-4b42-bd84-b6df59d43c45",
   "metadata": {},
   "source": [
    "## 5.补充：随机数种子"
   ]
  },
  {
   "cell_type": "code",
   "execution_count": 37,
   "id": "ac687353-581c-42da-86be-ef5d746d5d4f",
   "metadata": {},
   "outputs": [
    {
     "data": {
      "text/plain": [
       "tensor([[[-1.4168, -0.0370,  1.2190],\n",
       "         [ 0.6710, -0.5209,  0.4375]]])"
      ]
     },
     "execution_count": 37,
     "metadata": {},
     "output_type": "execute_result"
    }
   ],
   "source": [
    "c = torch.randn(1,2,3)\n",
    "c"
   ]
  },
  {
   "cell_type": "markdown",
   "id": "51218562-ca10-4688-92ff-4e531a3b27b9",
   "metadata": {},
   "source": [
    "每次生成的值都不同"
   ]
  },
  {
   "cell_type": "code",
   "execution_count": 51,
   "id": "fd934023-d426-47fd-b6ee-a40f9e4bf234",
   "metadata": {},
   "outputs": [
    {
     "data": {
      "text/plain": [
       "tensor([[[ 0.3367,  0.1288,  0.2345],\n",
       "         [ 0.2303, -1.1229, -0.1863]]])"
      ]
     },
     "execution_count": 51,
     "metadata": {},
     "output_type": "execute_result"
    }
   ],
   "source": [
    "torch.manual_seed(42) # 设置随机数种子=42,可以随便设置一个值\n",
    "c = torch.randn(1,2,3)\n",
    "c"
   ]
  },
  {
   "cell_type": "code",
   "execution_count": null,
   "id": "f021080d-4a8a-400a-b8f8-983d85d8ce8e",
   "metadata": {},
   "outputs": [],
   "source": []
  },
  {
   "cell_type": "code",
   "execution_count": null,
   "id": "2c9cc86e-3e73-4115-babc-ac0d8dd3befc",
   "metadata": {},
   "outputs": [],
   "source": []
  }
 ],
 "metadata": {
  "kernelspec": {
   "display_name": "Python 3 (ipykernel)",
   "language": "python",
   "name": "python3"
  },
  "language_info": {
   "codemirror_mode": {
    "name": "ipython",
    "version": 3
   },
   "file_extension": ".py",
   "mimetype": "text/x-python",
   "name": "python",
   "nbconvert_exporter": "python",
   "pygments_lexer": "ipython3",
   "version": "3.9.18"
  }
 },
 "nbformat": 4,
 "nbformat_minor": 5
}
