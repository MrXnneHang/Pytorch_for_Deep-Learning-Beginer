{
 "cells": [
  {
   "cell_type": "markdown",
   "id": "bf588717-7574-46a7-84b5-d1299f447d71",
   "metadata": {},
   "source": [
    "# 项目一-线性回归"
   ]
  },
  {
   "cell_type": "markdown",
   "id": "32ccc3b4-5600-408a-81c4-4e0d59b3206a",
   "metadata": {},
   "source": [
    "## 1.导入我们要用到的库"
   ]
  },
  {
   "cell_type": "code",
   "execution_count": 1,
   "id": "30eb3f56-452b-4809-b5de-bba7067887ed",
   "metadata": {},
   "outputs": [],
   "source": [
    "# matplotlib"
   ]
  },
  {
   "cell_type": "markdown",
   "id": "efb34655-26e9-4a50-a825-614daa8fd583",
   "metadata": {},
   "source": [
    "## 2.创建我们线性回归的数据"
   ]
  },
  {
   "cell_type": "code",
   "execution_count": 5,
   "id": "3869b059-74ea-4f31-9c8b-c60fa44b7a00",
   "metadata": {},
   "outputs": [],
   "source": [
    "## torch.arange"
   ]
  },
  {
   "cell_type": "markdown",
   "id": "3a6e8c8e-ba3f-4836-b17c-ebd9a646c887",
   "metadata": {},
   "source": [
    "## 3. 创建我们的模型"
   ]
  },
  {
   "cell_type": "code",
   "execution_count": 2,
   "id": "3b070317-2630-451c-8a0c-e27b56f42bf8",
   "metadata": {},
   "outputs": [],
   "source": [
    "## 模型的模板类\n",
    "## 怎么创建a和b，随机数，需要gradient\n",
    "## loss_fn是做什么的"
   ]
  },
  {
   "cell_type": "markdown",
   "id": "ad224196-4899-4b99-bbd4-59f907a87b5f",
   "metadata": {},
   "source": [
    "## 4.训练模型和评估"
   ]
  },
  {
   "cell_type": "code",
   "execution_count": 6,
   "id": "da1c3c6d-7a9f-4ca2-ab6b-370b9493613b",
   "metadata": {},
   "outputs": [],
   "source": [
    "# 训练的一般过程\n",
    "# optimizer.zero_grad,loss.backward,optimizer.stp\n",
    "# 带有reqires_grad的不能被直接画图"
   ]
  },
  {
   "cell_type": "markdown",
   "id": "264ccdb2-ce26-498d-aed2-d0d91a8ab49f",
   "metadata": {},
   "source": [
    "## 5.保存模型并且再加载"
   ]
  },
  {
   "cell_type": "code",
   "execution_count": 4,
   "id": "e2e002a0-7d99-4245-8b9b-626aaf88f52f",
   "metadata": {},
   "outputs": [],
   "source": [
    "## 为什么要保存"
   ]
  }
 ],
 "metadata": {
  "kernelspec": {
   "display_name": "Python 3 (ipykernel)",
   "language": "python",
   "name": "python3"
  },
  "language_info": {
   "codemirror_mode": {
    "name": "ipython",
    "version": 3
   },
   "file_extension": ".py",
   "mimetype": "text/x-python",
   "name": "python",
   "nbconvert_exporter": "python",
   "pygments_lexer": "ipython3",
   "version": "3.9.18"
  }
 },
 "nbformat": 4,
 "nbformat_minor": 5
}
