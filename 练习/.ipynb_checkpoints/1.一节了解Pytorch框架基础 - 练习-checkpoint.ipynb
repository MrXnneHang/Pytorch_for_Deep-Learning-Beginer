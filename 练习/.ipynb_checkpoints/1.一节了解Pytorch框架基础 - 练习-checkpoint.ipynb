{
 "cells": [
  {
   "cell_type": "markdown",
   "id": "ab07bd84-0835-4d66-ae72-7915ad68d608",
   "metadata": {},
   "source": [
    "# 这节课是开给完全没有接触过Pytorch的道友的"
   ]
  },
  {
   "cell_type": "markdown",
   "id": "10558ebc-806d-45ce-a41f-126e10374c78",
   "metadata": {},
   "source": [
    "## 1.关于张量：\n",
    "1.什么是张量(Tensor) <br>\n",
    "张量是一种带有**梯度的多维数组(矩阵）** <br>\n",
    "2.什么是梯度. <br>\n",
    "可以简单理解为计算过程中**自动求导得到的导数值**"
   ]
  },
  {
   "cell_type": "code",
   "execution_count": null,
   "id": "ad129670-6e20-4800-8dee-076c589947ed",
   "metadata": {},
   "outputs": [],
   "source": []
  },
  {
   "cell_type": "markdown",
   "id": "c4762e12-821f-4257-9b1f-10909524928c",
   "metadata": {},
   "source": [
    "## 2.创建张量:让我们写代码"
   ]
  },
  {
   "cell_type": "code",
   "execution_count": null,
   "id": "fd9898af-476a-46d7-a6df-f758e88ae7b0",
   "metadata": {},
   "outputs": [],
   "source": []
  },
  {
   "cell_type": "markdown",
   "id": "3acd36fa-5e13-4845-8eaf-2643dedeef09",
   "metadata": {},
   "source": [
    "## 3.张量的形状(\"Shape\")\n",
    "**Tensor.shape**"
   ]
  },
  {
   "cell_type": "code",
   "execution_count": null,
   "id": "12e2c427-b61f-4127-8fa2-25daf91c3900",
   "metadata": {},
   "outputs": [],
   "source": []
  },
  {
   "cell_type": "markdown",
   "id": "345c9485-0b77-43fd-9945-b997de6ce822",
   "metadata": {},
   "source": [
    "#### 3.1改变张量的形状 torch.reshape"
   ]
  },
  {
   "cell_type": "code",
   "execution_count": null,
   "id": "8263b64c-5ae9-4dbd-89ed-bc994653300b",
   "metadata": {},
   "outputs": [],
   "source": []
  },
  {
   "cell_type": "markdown",
   "id": "ca67c0aa-ba74-4e03-9149-cc929158ddcf",
   "metadata": {},
   "source": [
    "## 4.张量的梯度"
   ]
  },
  {
   "cell_type": "markdown",
   "id": "342e8985-6f58-4881-9129-835b0af00b18",
   "metadata": {},
   "source": [
    "**梯度**(gradient) <br>\n",
    "在pytorch中叫 **requires_grad**的一个值可以控制是否保存梯度值 <br>\n",
    "因为为了节约计算资源，默认创建的张量的时候都是False(不保存) <br>\n",
    "我们训练的时候会需要这个梯度值。"
   ]
  },
  {
   "cell_type": "code",
   "execution_count": null,
   "id": "84ea9945-398c-4d9c-b96c-eaa26921dcf1",
   "metadata": {},
   "outputs": [],
   "source": []
  },
  {
   "cell_type": "markdown",
   "id": "eab3e2b3-a9d3-4b42-bd84-b6df59d43c45",
   "metadata": {},
   "source": [
    "## 5.补充：随机数种子"
   ]
  },
  {
   "cell_type": "code",
   "execution_count": null,
   "id": "8203ea6e-8d75-4fb7-b2a6-76b4dca6febb",
   "metadata": {},
   "outputs": [],
   "source": []
  }
 ],
 "metadata": {
  "kernelspec": {
   "display_name": "Python 3 (ipykernel)",
   "language": "python",
   "name": "python3"
  },
  "language_info": {
   "codemirror_mode": {
    "name": "ipython",
    "version": 3
   },
   "file_extension": ".py",
   "mimetype": "text/x-python",
   "name": "python",
   "nbconvert_exporter": "python",
   "pygments_lexer": "ipython3",
   "version": "3.9.18"
  }
 },
 "nbformat": 4,
 "nbformat_minor": 5
}
