{
 "cells": [
  {
   "cell_type": "markdown",
   "id": "4505c607-ac25-4e58-8439-4f115225643d",
   "metadata": {},
   "source": [
    "## 对Pytorch说你好"
   ]
  },
  {
   "cell_type": "markdown",
   "id": "d3b80063-7d00-4f08-8fb4-b7bf528f3c75",
   "metadata": {},
   "source": [
    "## 1.导入必要的库"
   ]
  },
  {
   "cell_type": "code",
   "execution_count": null,
   "id": "f2e03685-8c95-4248-b7b7-719e5a6aff12",
   "metadata": {},
   "outputs": [],
   "source": []
  },
  {
   "cell_type": "markdown",
   "id": "c1a4642a-73ca-4cb2-bf37-633b1f4305a3",
   "metadata": {},
   "source": [
    "## 2.查看torch的版本"
   ]
  },
  {
   "cell_type": "code",
   "execution_count": null,
   "id": "a843f80f-6b5e-41a8-9cbc-5d7c1a262fdb",
   "metadata": {},
   "outputs": [],
   "source": []
  },
  {
   "cell_type": "markdown",
   "id": "8b6f25d0-e1f9-4c1e-8c21-e2f5b29c7d21",
   "metadata": {},
   "source": [
    "## 3.用torch.cuda.is_available()测试torch是否安装成功。"
   ]
  },
  {
   "cell_type": "code",
   "execution_count": null,
   "id": "0f8edb11-b7f8-4c0c-83f3-f8d9c6d40e62",
   "metadata": {},
   "outputs": [],
   "source": []
  }
 ],
 "metadata": {
  "kernelspec": {
   "display_name": "Python 3 (ipykernel)",
   "language": "python",
   "name": "python3"
  },
  "language_info": {
   "codemirror_mode": {
    "name": "ipython",
    "version": 3
   },
   "file_extension": ".py",
   "mimetype": "text/x-python",
   "name": "python",
   "nbconvert_exporter": "python",
   "pygments_lexer": "ipython3",
   "version": "3.9.18"
  }
 },
 "nbformat": 4,
 "nbformat_minor": 5
}
