{
 "cells": [
  {
   "cell_type": "code",
   "execution_count": 1,
   "id": "6b500574-f49e-417d-a4f2-55138f5aaefb",
   "metadata": {},
   "outputs": [],
   "source": [
    "import torch"
   ]
  },
  {
   "cell_type": "code",
   "execution_count": 2,
   "id": "7a906faf-75c6-4493-a464-60f17e220ea4",
   "metadata": {},
   "outputs": [
    {
     "data": {
      "text/plain": [
       "'2.1.0+cu118'"
      ]
     },
     "execution_count": 2,
     "metadata": {},
     "output_type": "execute_result"
    }
   ],
   "source": [
    "torch.__version__"
   ]
  },
  {
   "cell_type": "code",
   "execution_count": 3,
   "id": "bf105d56-b842-4333-a807-c133552a4950",
   "metadata": {},
   "outputs": [
    {
     "name": "stdout",
     "output_type": "stream",
     "text": [
      "显卡我爱你\n"
     ]
    }
   ],
   "source": [
    "if torch.cuda.is_available():\n",
    "    print(\"显卡我爱你\")\n",
    "else:\n",
    "    print(\"我要成为云端大佬\")"
   ]
  },
  {
   "cell_type": "code",
   "execution_count": 4,
   "id": "4a02b100-6c83-49de-be89-72d590fa0d2d",
   "metadata": {},
   "outputs": [
    {
     "name": "stdout",
     "output_type": "stream",
     "text": [
      "Hello Torch\n"
     ]
    }
   ],
   "source": [
    "print(\"Hello Torch\")"
   ]
  },
  {
   "cell_type": "code",
   "execution_count": null,
   "id": "e94ae769-ff09-44d7-8d68-bf6f7429d8ab",
   "metadata": {},
   "outputs": [],
   "source": []
  }
 ],
 "metadata": {
  "kernelspec": {
   "display_name": "Python 3 (ipykernel)",
   "language": "python",
   "name": "python3"
  },
  "language_info": {
   "codemirror_mode": {
    "name": "ipython",
    "version": 3
   },
   "file_extension": ".py",
   "mimetype": "text/x-python",
   "name": "python",
   "nbconvert_exporter": "python",
   "pygments_lexer": "ipython3",
   "version": "3.9.18"
  }
 },
 "nbformat": 4,
 "nbformat_minor": 5
}
